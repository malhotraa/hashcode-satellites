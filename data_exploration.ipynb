{
 "cells": [
  {
   "cell_type": "code",
   "execution_count": 6,
   "metadata": {},
   "outputs": [
    {
     "data": {
      "text/plain": [
       "['259200',\n",
       " '25',\n",
       " '-91637 -40501 400 16 2814',\n",
       " '-65455 -162001 400 19 425',\n",
       " '-65455 -81001 400 15 4197',\n",
       " '-65455 -1 400 17 6577',\n",
       " '-39273 -405001 400 18 4018',\n",
       " '-39273 -283501 400 15 3947',\n",
       " '-39273 -202501 400 18 7381',\n",
       " '-39273 -121501 400 16 9036']"
      ]
     },
     "execution_count": 6,
     "metadata": {},
     "output_type": "execute_result"
    }
   ],
   "source": [
    "lines = []\n",
    "with open('./input/constellation.in', 'r') as f:\n",
    "    for line in f:\n",
    "        lines.append(line.strip())\n",
    "    \n",
    "lines[0:10]"
   ]
  },
  {
   "cell_type": "code",
   "execution_count": 7,
   "metadata": {},
   "outputs": [
    {
     "data": {
      "text/plain": [
       "259200"
      ]
     },
     "execution_count": 7,
     "metadata": {},
     "output_type": "execute_result"
    }
   ],
   "source": [
    "T = int(lines[0])\n",
    "T"
   ]
  },
  {
   "cell_type": "code",
   "execution_count": 11,
   "metadata": {},
   "outputs": [
    {
     "data": {
      "text/plain": [
       "25"
      ]
     },
     "execution_count": 11,
     "metadata": {},
     "output_type": "execute_result"
    }
   ],
   "source": [
    "S = int(lines[1])\n",
    "S"
   ]
  },
  {
   "cell_type": "code",
   "execution_count": 20,
   "metadata": {},
   "outputs": [
    {
     "name": "stdout",
     "output_type": "stream",
     "text": [
      "Satellite (phi=-91637, lamda=-40501, v=400, w=16, d=2814)\n"
     ]
    }
   ],
   "source": [
    "class Satellite:\n",
    "    def __init__(self, phi, lamda, v, w, d):\n",
    "        self._phi = phi\n",
    "        self._lamda = lamda\n",
    "        self._v = v\n",
    "        self._w = w\n",
    "        self._d = d\n",
    "    \n",
    "    def __str__(self):\n",
    "        return f\"Satellite (phi={self._phi}, lamda={self._lamda}, v={self._v}, w={self._w}, d={self._d})\"\n",
    "\n",
    "satellites = []\n",
    "for i in range(S):\n",
    "    satellites.append(Satellite(*lines[2 + i].split()))\n",
    "\n",
    "print(satellites[0])"
   ]
  },
  {
   "cell_type": "code",
   "execution_count": 21,
   "metadata": {},
   "outputs": [
    {
     "data": {
      "text/plain": [
       "1024"
      ]
     },
     "execution_count": 21,
     "metadata": {},
     "output_type": "execute_result"
    }
   ],
   "source": [
    "C = int(lines[S+2])\n",
    "C"
   ]
  },
  {
   "cell_type": "code",
   "execution_count": 40,
   "metadata": {},
   "outputs": [
    {
     "name": "stdout",
     "output_type": "stream",
     "text": [
      "ImageCollection (value=1924, num_locations=21, num_ranges=3)\n"
     ]
    }
   ],
   "source": [
    "class ImageCollection:\n",
    "    def __init__(self, value, locations, ranges):\n",
    "        self._value = value\n",
    "        self._locations = locations\n",
    "        self._ranges = ranges\n",
    "    \n",
    "    def __str__(self):\n",
    "        return f\"ImageCollection (value={self._value}, num_locations={len(self._locations)}, num_ranges={len(self._ranges)})\"\n",
    "\n",
    "class Location:\n",
    "    def __init__(self, lat, lon):\n",
    "        self._lat = lat\n",
    "        self._lon = lon\n",
    "    \n",
    "    def __str__(self):\n",
    "        return f\"Location (lat={self._lat}, lon={self._lon})\"\n",
    "    \n",
    "class TimeRange:\n",
    "    def __init__(self, start, end):\n",
    "        self._start = start\n",
    "        self._end = end\n",
    "    \n",
    "    def __str__(self):\n",
    "        return f\"TimeRange (start={self._start}, end={self._end})\"\n",
    "\n",
    "image_collections = []\n",
    "curr = S+3\n",
    "while curr < len(lines):\n",
    "    value, num_locations, num_ranges = list(map(int, lines[curr].split()))\n",
    "    locations = []\n",
    "    for i in range(num_locations):\n",
    "        locations.append(Location(*lines[curr+1+i].split()))\n",
    "    \n",
    "    ranges = []\n",
    "    for i in range(num_ranges):\n",
    "        ranges.append(TimeRange(*lines[curr+1+num_locations+i].split()))\n",
    "    \n",
    "    image_collections.append(ImageCollection(value, locations, ranges))\n",
    "    curr = curr + 1 + num_locations + num_ranges\n",
    "\n",
    "print(image_collections[0])"
   ]
  },
  {
   "cell_type": "code",
   "execution_count": null,
   "metadata": {},
   "outputs": [],
   "source": []
  }
 ],
 "metadata": {
  "kernelspec": {
   "display_name": "Python 3",
   "language": "python",
   "name": "python3"
  },
  "language_info": {
   "codemirror_mode": {
    "name": "ipython",
    "version": 3
   },
   "file_extension": ".py",
   "mimetype": "text/x-python",
   "name": "python",
   "nbconvert_exporter": "python",
   "pygments_lexer": "ipython3",
   "version": "3.6.6"
  }
 },
 "nbformat": 4,
 "nbformat_minor": 2
}
